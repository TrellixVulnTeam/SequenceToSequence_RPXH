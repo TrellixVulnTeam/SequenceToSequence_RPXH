{
 "cells": [
  {
   "cell_type": "code",
   "execution_count": 1,
   "metadata": {
    "collapsed": false,
    "deletable": true,
    "editable": true
   },
   "outputs": [],
   "source": [
    "from tensorflow.python.platform import gfile\n",
    "import tensorflow as tf\n",
    "import data_utils_orig # our data preprocessing functions\n",
    "import pandas as pd"
   ]
  },
  {
   "cell_type": "code",
   "execution_count": 2,
   "metadata": {
    "collapsed": false,
    "deletable": true,
    "editable": true
   },
   "outputs": [],
   "source": [
    "# Load the dev data files\n",
    "en_fname = \"./data/dev.en\"\n",
    "vi_fname = \"./data/dev.vi\"\n",
    "\n",
    "# create vocabulary\n",
    "# Create vocabulary file (if it does not exist yet) from data file.\n",
    "data_utils_orig.create_vocabulary(\"./data/dev_vocab.en\",\"./data/dev.en\",100)\n",
    "data_utils_orig.create_vocabulary(\"./data/dev_vocab.vi\",\"./data/dev.vi\",100)\n",
    "\n",
    "# get vocab pairs\n",
    "#Initialize vocabulary from file.\n",
    "# Returns a pair: the vocabulary (a dictionary mapping string to integers), and\n",
    "# the reversed vocabulary (a list, which reverses the vocabulary mapping).\n",
    "en_vocab_pairs = data_utils_orig.initialize_vocabulary(\"./data/dev_vocab.en\")\n",
    "vi_vocam_pairs = data_utils_orig.initialize_vocabulary(\"./data/dev_vocab.vi\")"
   ]
  },
  {
   "cell_type": "code",
   "execution_count": 10,
   "metadata": {
    "collapsed": true,
    "deletable": true,
    "editable": true
   },
   "outputs": [],
   "source": [
    "def sentence_to_tokenids(sentence, vocabulary, tokenizer=None, normalize_digits=True):\n",
    "    if tokenizer:\n",
    "        words = tokenizer(sentence)\n",
    "    else:\n",
    "        words = data_utils_orig.basic_tokenizer(sentence)\n",
    "        print \"Sentence: \", sentence\n",
    "        print \"vocabulary: \", vocabulary\n",
    "\n",
    "        if not normalize_digits:\n",
    "            return [vocabulary.get(w, data_utils_orig.UNK_ID) for w in words]\n",
    "\n",
    "        # Normalize digits by 0 before looking words up in the vocabulary.\n",
    "        return [vocabulary.get(data_utils_orig._DIGIT_RE.sub(b\"0\", w), data_utils_orig.UNK_ID) for w in words]\n",
    "\n",
    "def create_token_id_files(sentencepath,tokenidpath,vocabpath):\n",
    "  from tensorflow.python.platform import gfile\n",
    "  print tokenidpath\n",
    "  if not gfile.Exists(tokenidpath):\n",
    "    print(\"Creating token id file %s from sentence file %s\" % (tokenidpath, sentencepath))\n",
    "    with gfile.GFile(sentencepath, mode=\"rb\") as f:\n",
    "      counter = 0\n",
    "      for line in f:\n",
    "        counter += 1\n",
    "        if counter % 100000 == 0:\n",
    "          print(\"  processing line %d\" % counter)\n",
    "        line = tf.compat.as_bytes(line)\n",
    "        print 'Counter: ', counter, ' ; line: ', line\n",
    "        print 'vocabpath: ', vocabpath\n",
    "        vocab, rev_vocab = data_utils_orig.initialize_vocabulary(vocabpath)\n",
    "        thislinetokenids = data_utils_orig.sentence_to_token_ids(line,vocab)\n",
    "        print thislinetokenids\n",
    "      with gfile.GFile(tokenidpath, mode=\"wb\") as tokenid_file:\n",
    "        print len(vocab_list)\n",
    "        for w in vocab_list:\n",
    "          tokenid_file.write(w + b\"\\n\")"
   ]
  },
  {
   "cell_type": "code",
   "execution_count": 11,
   "metadata": {
    "collapsed": false,
    "deletable": true,
    "editable": true
   },
   "outputs": [
    {
     "name": "stdout",
     "output_type": "stream",
     "text": [
      "./data/def_tokenids.en\n",
      "Creating token id file ./data/def_tokenids.en from sentence file ./data/dev.en\n",
      "Counter:  1  ; line:  Rachel Pike : The science behind a climate headline\n",
      "\n",
      "vocabpath:  ./data/dev_vocab.en\n"
     ]
    },
    {
     "ename": "NameError",
     "evalue": "global name 'data_utils_org' is not defined",
     "output_type": "error",
     "traceback": [
      "\u001b[0;31m---------------------------------------------------------------------------\u001b[0m",
      "\u001b[0;31mNameError\u001b[0m                                 Traceback (most recent call last)",
      "\u001b[0;32m<ipython-input-11-564dd06d4ba6>\u001b[0m in \u001b[0;36m<module>\u001b[0;34m()\u001b[0m\n\u001b[0;32m----> 1\u001b[0;31m \u001b[0mcreate_token_id_files\u001b[0m\u001b[0;34m(\u001b[0m\u001b[0;34m\"./data/dev.en\"\u001b[0m\u001b[0;34m,\u001b[0m\u001b[0;34m\"./data/def_tokenids.en\"\u001b[0m\u001b[0;34m,\u001b[0m\u001b[0;34m\"./data/dev_vocab.en\"\u001b[0m\u001b[0;34m)\u001b[0m\u001b[0;34m\u001b[0m\u001b[0m\n\u001b[0m",
      "\u001b[0;32m<ipython-input-10-383cc268e230>\u001b[0m in \u001b[0;36mcreate_token_id_files\u001b[0;34m(sentencepath, tokenidpath, vocabpath)\u001b[0m\n\u001b[1;32m     28\u001b[0m         \u001b[0;32mprint\u001b[0m \u001b[0;34m'vocabpath: '\u001b[0m\u001b[0;34m,\u001b[0m \u001b[0mvocabpath\u001b[0m\u001b[0;34m\u001b[0m\u001b[0m\n\u001b[1;32m     29\u001b[0m         \u001b[0mvocab\u001b[0m\u001b[0;34m,\u001b[0m \u001b[0mrev_vocab\u001b[0m \u001b[0;34m=\u001b[0m \u001b[0mdata_utils_orig\u001b[0m\u001b[0;34m.\u001b[0m\u001b[0minitialize_vocabulary\u001b[0m\u001b[0;34m(\u001b[0m\u001b[0mvocabpath\u001b[0m\u001b[0;34m)\u001b[0m\u001b[0;34m\u001b[0m\u001b[0m\n\u001b[0;32m---> 30\u001b[0;31m         \u001b[0mthislinetokenids\u001b[0m \u001b[0;34m=\u001b[0m \u001b[0mdata_utils_org\u001b[0m\u001b[0;34m.\u001b[0m\u001b[0msentence_to_token_ids\u001b[0m\u001b[0;34m(\u001b[0m\u001b[0mline\u001b[0m\u001b[0;34m,\u001b[0m\u001b[0mvocab\u001b[0m\u001b[0;34m)\u001b[0m\u001b[0;34m\u001b[0m\u001b[0m\n\u001b[0m\u001b[1;32m     31\u001b[0m         \u001b[0;32mprint\u001b[0m \u001b[0mthislinetokenids\u001b[0m\u001b[0;34m\u001b[0m\u001b[0m\n\u001b[1;32m     32\u001b[0m       \u001b[0;32mwith\u001b[0m \u001b[0mgfile\u001b[0m\u001b[0;34m.\u001b[0m\u001b[0mGFile\u001b[0m\u001b[0;34m(\u001b[0m\u001b[0mtokenidpath\u001b[0m\u001b[0;34m,\u001b[0m \u001b[0mmode\u001b[0m\u001b[0;34m=\u001b[0m\u001b[0;34m\"wb\"\u001b[0m\u001b[0;34m)\u001b[0m \u001b[0;32mas\u001b[0m \u001b[0mtokenid_file\u001b[0m\u001b[0;34m:\u001b[0m\u001b[0;34m\u001b[0m\u001b[0m\n",
      "\u001b[0;31mNameError\u001b[0m: global name 'data_utils_org' is not defined"
     ]
    }
   ],
   "source": [
    "create_token_id_files(\"./data/dev.en\",\"./data/def_tokenids.en\",\"./data/dev_vocab.en\")"
   ]
  },
  {
   "cell_type": "code",
   "execution_count": null,
   "metadata": {
    "collapsed": true,
    "deletable": true,
    "editable": true
   },
   "outputs": [],
   "source": []
  },
  {
   "cell_type": "code",
   "execution_count": null,
   "metadata": {
    "collapsed": true,
    "deletable": true,
    "editable": true
   },
   "outputs": [],
   "source": []
  }
 ],
 "metadata": {
  "kernelspec": {
   "display_name": "Python 2",
   "language": "python",
   "name": "python2"
  },
  "language_info": {
   "codemirror_mode": {
    "name": "ipython",
    "version": 2
   },
   "file_extension": ".py",
   "mimetype": "text/x-python",
   "name": "python",
   "nbconvert_exporter": "python",
   "pygments_lexer": "ipython2",
   "version": "2.7.10"
  }
 },
 "nbformat": 4,
 "nbformat_minor": 2
}
